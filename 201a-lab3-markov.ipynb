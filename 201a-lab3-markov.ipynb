{
 "cells": [
  {
   "cell_type": "code",
   "execution_count": 1,
   "id": "63b7d30b-2cd2-49f2-9f06-7eaf856827b7",
   "metadata": {},
   "outputs": [],
   "source": [
    "import numpy as np\n",
    "import pandas as pd\n",
    "import matplotlib.pyplot as plt\n",
    "import random\n",
    "\n",
    "from scipy.linalg import null_space\n",
    "\n",
    "np.random.seed(10)"
   ]
  },
  {
   "cell_type": "markdown",
   "id": "e388ef12",
   "metadata": {},
   "source": [
    "### Question 1"
   ]
  },
  {
   "cell_type": "markdown",
   "id": "0bcf0db9",
   "metadata": {},
   "source": [
    "#### Part A"
   ]
  },
  {
   "cell_type": "code",
   "execution_count": 2,
   "id": "3ac70b12-c255-4f3f-aa3b-0e69e9174d20",
   "metadata": {},
   "outputs": [
    {
     "data": {
      "text/plain": [
       "array([[0.2, 0.7, 0.1],\n",
       "       [0.2, 0.5, 0.3],\n",
       "       [0.2, 0.4, 0.4]])"
      ]
     },
     "execution_count": 2,
     "metadata": {},
     "output_type": "execute_result"
    }
   ],
   "source": [
    "# construct transition matrix\n",
    "pmat = np.zeros((3,3))\n",
    "\n",
    "pmat[0,0] = 0.2\n",
    "pmat[0,1] = 0.7\n",
    "pmat[0,2] = 0.1\n",
    "\n",
    "pmat[1,0] = 0.2\n",
    "pmat[1,1] = 0.5\n",
    "pmat[1,2] = 0.3\n",
    "\n",
    "pmat[2,0] = 0.2\n",
    "pmat[2,1] = 0.4\n",
    "pmat[2,2] = 0.4\n",
    "\n",
    "pmat"
   ]
  },
  {
   "cell_type": "markdown",
   "id": "20acc0da",
   "metadata": {},
   "source": [
    "#### Part B"
   ]
  },
  {
   "cell_type": "code",
   "execution_count": 3,
   "id": "2447bf84",
   "metadata": {},
   "outputs": [
    {
     "name": "stdout",
     "output_type": "stream",
     "text": [
      "x_0 = 1\n",
      "x_1 = 2\n",
      "x_2 = 1\n",
      "x_3 = 2\n",
      "x_4 = 3\n",
      "x_5 = 2\n",
      "x_6 = 2\n",
      "x_7 = 1\n",
      "x_8 = 2\n",
      "x_9 = 1\n",
      "x_10 = 1\n",
      "x_11 = 2\n",
      "x_12 = 3\n",
      "x_13 = 1\n",
      "x_14 = 2\n",
      "x_15 = 3\n",
      "x_16 = 3\n",
      "x_17 = 3\n",
      "x_18 = 2\n",
      "x_19 = 3\n"
     ]
    }
   ],
   "source": [
    "# simulate one realization\n",
    "num_sim_seq = 20\n",
    "x_values = [1,2,3]\n",
    "\n",
    "for i in np.arange(num_sim_seq):\n",
    "    if i == 0:\n",
    "        x_i = 1\n",
    "    else:\n",
    "        idx = x0 - 1\n",
    "        p_tran = pmat[idx,:]\n",
    "        x_i = np.random.choice(x_values, p=p_tran)\n",
    "        \n",
    "    print(f\"x_{i} = {x_i}\")\n",
    "    x0 = x_i"
   ]
  },
  {
   "cell_type": "markdown",
   "id": "838c42c3",
   "metadata": {},
   "source": [
    "### Question 2"
   ]
  },
  {
   "cell_type": "markdown",
   "id": "2f869593",
   "metadata": {},
   "source": [
    "#### Part A"
   ]
  },
  {
   "cell_type": "code",
   "execution_count": 4,
   "id": "c406b8f5-9775-4abd-8a47-be0023d85b0f",
   "metadata": {},
   "outputs": [],
   "source": [
    "## see written solutions"
   ]
  },
  {
   "cell_type": "code",
   "execution_count": 5,
   "id": "dc48f436",
   "metadata": {},
   "outputs": [
    {
     "name": "stdout",
     "output_type": "stream",
     "text": [
      "[[0.2       ]\n",
      " [0.51111111]\n",
      " [0.28888889]]\n"
     ]
    }
   ],
   "source": [
    "A = pmat.T - np.identity(3)\n",
    "pi_inf = null_space(A)/np.sum(null_space(A))\n",
    "\n",
    "print(pi_inf)"
   ]
  },
  {
   "cell_type": "markdown",
   "id": "32427a08",
   "metadata": {},
   "source": [
    "#### Part B"
   ]
  },
  {
   "cell_type": "code",
   "execution_count": 6,
   "id": "37b5e118",
   "metadata": {},
   "outputs": [],
   "source": [
    "pi_0a = np.array([0.1,0.1,0.8])\n",
    "pi_0b = np.array([0,1,0])\n",
    "\n",
    "pi_inf = np.array([9/45, 23/45, 13/45])"
   ]
  },
  {
   "cell_type": "code",
   "execution_count": 7,
   "id": "7bf4f850",
   "metadata": {},
   "outputs": [],
   "source": [
    "def calculate_l2_norms(pi_0, pi_inf, pmat, num_realizations=10):\n",
    "\n",
    "    results_list = []\n",
    "    for i in np.arange(num_realizations+1):\n",
    "        if i == 0:\n",
    "            pi_i = pi_0\n",
    "\n",
    "        # calculate l2 norm\n",
    "        diff = pi_i - pi_inf\n",
    "        l2_norm = np.linalg.norm(diff)\n",
    "        results_list.append(l2_norm)\n",
    "\n",
    "        # calculate next time step\n",
    "        pi_i2 = np.matmul(np.transpose(pi_i), pmat)\n",
    "        pi_i = pi_i2\n",
    "        \n",
    "    return results_list"
   ]
  },
  {
   "cell_type": "code",
   "execution_count": 8,
   "id": "87cf3135",
   "metadata": {},
   "outputs": [],
   "source": [
    "results_a = calculate_l2_norms(pi_0a, pi_inf, pmat)\n",
    "results_b = calculate_l2_norms(pi_0b, pi_inf, pmat)"
   ]
  },
  {
   "cell_type": "code",
   "execution_count": 9,
   "id": "b0c89c7b",
   "metadata": {},
   "outputs": [
    {
     "data": {
      "image/png": "[encoded data removed]",
      "text/plain": [
       "<Figure size 1200x400 with 2 Axes>"
      ]
     },
     "metadata": {},
     "output_type": "display_data"
    }
   ],
   "source": [
    "# plot results (use log scale)\n",
    "\n",
    "fig, axes = plt.subplots(1, 2, figsize=(12, 4))\n",
    "axes = axes.flatten()\n",
    "\n",
    "axes[0].scatter(np.arange(len(results_a)), results_a, color='purple', label='pi0_a')\n",
    "axes[1].scatter(np.arange(len(results_b)), results_b, color='blue', label='pi0_b')\n",
    "\n",
    "axes[0].set_yscale('log')\n",
    "axes[1].set_yscale('log')\n",
    "axes[0].legend()\n",
    "axes[1].legend()\n",
    "\n",
    "axes[0].set_xlabel('time step')\n",
    "axes[0].set_ylabel('l2 norm btw stationary dist')\n",
    "\n",
    "axes[1].set_xlabel('time step')\n",
    "axes[1].set_ylabel('l2 norm btw stationary dist')\n",
    "plt.show()"
   ]
  },
  {
   "cell_type": "markdown",
   "id": "b8c4e709",
   "metadata": {},
   "source": [
    "### Question 3"
   ]
  },
  {
   "cell_type": "markdown",
   "id": "e5f3ce74",
   "metadata": {},
   "source": [
    "#### Part A"
   ]
  },
  {
   "cell_type": "code",
   "execution_count": 10,
   "id": "5fa79217",
   "metadata": {},
   "outputs": [],
   "source": [
    "def sim_arrival_times(x0, pmat, num_sim):\n",
    "    x_values = [1,2,3]\n",
    "    arrival_times_list = []\n",
    "    \n",
    "    for _ in np.arange(num_sim):\n",
    "        time = 0\n",
    "        x_i = x0\n",
    "        \n",
    "        while x_i != 3:\n",
    "            \n",
    "            time += 1\n",
    "            idx = x_i - 1\n",
    "            \n",
    "            p_tran = pmat[idx,:]\n",
    "            x_i = np.random.choice(x_values, p=p_tran)\n",
    "\n",
    "        arrival_times_list.append(time)\n",
    "    return arrival_times_list"
   ]
  },
  {
   "cell_type": "code",
   "execution_count": 11,
   "id": "6fc1214f",
   "metadata": {},
   "outputs": [],
   "source": [
    "arrival_times_1 = sim_arrival_times(1, pmat, num_sim=100000)\n",
    "arrival_times_2 = sim_arrival_times(2, pmat, num_sim=100000)"
   ]
  },
  {
   "cell_type": "code",
   "execution_count": 16,
   "id": "11c9a5b0",
   "metadata": {},
   "outputs": [
    {
     "data": {
      "image/png": "[encoded data removed]",
      "text/plain": [
       "<Figure size 1200x400 with 2 Axes>"
      ]
     },
     "metadata": {},
     "output_type": "display_data"
    }
   ],
   "source": [
    "fig, axes = plt.subplots(1, 2, figsize=(12, 4))\n",
    "axes = axes.flatten()\n",
    "\n",
    "axes[0].hist(arrival_times_1, bins=20, color='purple', label='X0 = 1')\n",
    "axes[1].hist(arrival_times_2, bins=20, color='blue', label='X0 = 2')\n",
    "axes[0].legend()\n",
    "axes[1].legend()\n",
    "\n",
    "axes[0].set_xlabel('arrival time')\n",
    "axes[1].set_xlabel('arrival time')\n",
    "plt.show()"
   ]
  },
  {
   "cell_type": "code",
   "execution_count": 17,
   "id": "63559d05",
   "metadata": {},
   "outputs": [
    {
     "name": "stdout",
     "output_type": "stream",
     "text": [
      "mean arrival time if start from node1: 4.60834\n",
      "mean arrival time if start from node2: 3.83162\n"
     ]
    }
   ],
   "source": [
    "x1_mean = np.mean(arrival_times_1)\n",
    "x2_mean = np.mean(arrival_times_2)\n",
    "\n",
    "print(f\"mean arrival time if start from node1: {x1_mean}\")\n",
    "print(f\"mean arrival time if start from node2: {x2_mean}\")"
   ]
  },
  {
   "cell_type": "code",
   "execution_count": null,
   "id": "d929356e-a792-4dd1-a401-2a3c1fe2d7e6",
   "metadata": {},
   "outputs": [],
   "source": []
  }
 ],
 "metadata": {
  "kernelspec": {
   "display_name": "Python 3 (ipykernel)",
   "language": "python",
   "name": "python3"
  },
  "language_info": {
   "codemirror_mode": {
    "name": "ipython",
    "version": 3
   },
   "file_extension": ".py",
   "mimetype": "text/x-python",
   "name": "python",
   "nbconvert_exporter": "python",
   "pygments_lexer": "ipython3",
   "version": "3.9.15"
  }
 },
 "nbformat": 4,
 "nbformat_minor": 5
}
